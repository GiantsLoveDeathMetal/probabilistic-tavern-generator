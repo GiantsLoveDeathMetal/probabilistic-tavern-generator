{
 "cells": [
  {
   "cell_type": "markdown",
   "metadata": {},
   "source": [
    "# Probabilistic Tavern Name Generation:\n",
    "\n",
    "This notebook uses industrial strength NLP and a standard markov-chain to generate tavern names.\n",
    "\n",
    "There are many sources online that provide randomly generated names, however their implementation of \"randomly generated\" usually consists of selecting a name from a preconstructed list.\n",
    "\n",
    "The method used below sources 500k pubs names to train a stochastic model for name generation.\n"
   ]
  },
  {
   "cell_type": "code",
   "execution_count": 20,
   "metadata": {},
   "outputs": [],
   "source": [
    "import spacy\n",
    "import markovify"
   ]
  },
  {
   "cell_type": "code",
   "execution_count": 5,
   "metadata": {
    "collapsed": true
   },
   "outputs": [],
   "source": [
    "import pandas as pd"
   ]
  },
  {
   "cell_type": "code",
   "execution_count": 6,
   "metadata": {
    "collapsed": true
   },
   "outputs": [],
   "source": [
    "columns = ['fsa_id', 'name',\n",
    "           'address', 'postcode',\n",
    "           'easting', 'northing',\n",
    "           'latitude', 'longitude',\n",
    "           'local_authority']\n",
    "\n",
    "pub_names = pd.read_csv('data/open_pubs.csv', names=columns)"
   ]
  },
  {
   "cell_type": "code",
   "execution_count": 7,
   "metadata": {},
   "outputs": [
    {
     "data": {
      "text/html": [
       "<div>\n",
       "<style scoped>\n",
       "    .dataframe tbody tr th:only-of-type {\n",
       "        vertical-align: middle;\n",
       "    }\n",
       "\n",
       "    .dataframe tbody tr th {\n",
       "        vertical-align: top;\n",
       "    }\n",
       "\n",
       "    .dataframe thead th {\n",
       "        text-align: right;\n",
       "    }\n",
       "</style>\n",
       "<table border=\"1\" class=\"dataframe\">\n",
       "  <thead>\n",
       "    <tr style=\"text-align: right;\">\n",
       "      <th></th>\n",
       "      <th>fsa_id</th>\n",
       "      <th>name</th>\n",
       "      <th>address</th>\n",
       "      <th>postcode</th>\n",
       "      <th>easting</th>\n",
       "      <th>northing</th>\n",
       "      <th>latitude</th>\n",
       "      <th>longitude</th>\n",
       "      <th>local_authority</th>\n",
       "    </tr>\n",
       "  </thead>\n",
       "  <tbody>\n",
       "    <tr>\n",
       "      <th>0</th>\n",
       "      <td>24</td>\n",
       "      <td>Anchor Inn</td>\n",
       "      <td>Upper Street, Stratford St Mary, COLCHESTER, E...</td>\n",
       "      <td>CO7 6LW</td>\n",
       "      <td>604748</td>\n",
       "      <td>234405</td>\n",
       "      <td>51.970390</td>\n",
       "      <td>0.979328</td>\n",
       "      <td>Babergh</td>\n",
       "    </tr>\n",
       "    <tr>\n",
       "      <th>1</th>\n",
       "      <td>30</td>\n",
       "      <td>Angel Inn</td>\n",
       "      <td>Egremont Street, Glemsford, SUDBURY, Suffolk</td>\n",
       "      <td>CO10 7SA</td>\n",
       "      <td>582888</td>\n",
       "      <td>247368</td>\n",
       "      <td>52.094427</td>\n",
       "      <td>0.668408</td>\n",
       "      <td>Babergh</td>\n",
       "    </tr>\n",
       "    <tr>\n",
       "      <th>2</th>\n",
       "      <td>63</td>\n",
       "      <td>Black Boy Hotel</td>\n",
       "      <td>7 Market Hill, SUDBURY, Suffolk</td>\n",
       "      <td>CO10 2EA</td>\n",
       "      <td>587356</td>\n",
       "      <td>241327</td>\n",
       "      <td>52.038683</td>\n",
       "      <td>0.730226</td>\n",
       "      <td>Babergh</td>\n",
       "    </tr>\n",
       "    <tr>\n",
       "      <th>3</th>\n",
       "      <td>64</td>\n",
       "      <td>Black Horse</td>\n",
       "      <td>Lower Street, Stratford St Mary, COLCHESTER, E...</td>\n",
       "      <td>CO7 6JS</td>\n",
       "      <td>604270</td>\n",
       "      <td>233920</td>\n",
       "      <td>51.966211</td>\n",
       "      <td>0.972091</td>\n",
       "      <td>Babergh</td>\n",
       "    </tr>\n",
       "    <tr>\n",
       "      <th>4</th>\n",
       "      <td>65</td>\n",
       "      <td>Black Lion</td>\n",
       "      <td>Lion Road, Glemsford, SUDBURY, Suffolk</td>\n",
       "      <td>CO10 7RF</td>\n",
       "      <td>582750</td>\n",
       "      <td>248298</td>\n",
       "      <td>52.102815</td>\n",
       "      <td>0.666893</td>\n",
       "      <td>Babergh</td>\n",
       "    </tr>\n",
       "  </tbody>\n",
       "</table>\n",
       "</div>"
      ],
      "text/plain": [
       "   fsa_id             name                                            address  \\\n",
       "0      24       Anchor Inn  Upper Street, Stratford St Mary, COLCHESTER, E...   \n",
       "1      30        Angel Inn       Egremont Street, Glemsford, SUDBURY, Suffolk   \n",
       "2      63  Black Boy Hotel                    7 Market Hill, SUDBURY, Suffolk   \n",
       "3      64      Black Horse  Lower Street, Stratford St Mary, COLCHESTER, E...   \n",
       "4      65       Black Lion             Lion Road, Glemsford, SUDBURY, Suffolk   \n",
       "\n",
       "   postcode  easting  northing   latitude longitude local_authority  \n",
       "0   CO7 6LW   604748    234405  51.970390  0.979328         Babergh  \n",
       "1  CO10 7SA   582888    247368  52.094427  0.668408         Babergh  \n",
       "2  CO10 2EA   587356    241327  52.038683  0.730226         Babergh  \n",
       "3   CO7 6JS   604270    233920  51.966211  0.972091         Babergh  \n",
       "4  CO10 7RF   582750    248298  52.102815  0.666893         Babergh  "
      ]
     },
     "execution_count": 7,
     "metadata": {},
     "output_type": "execute_result"
    }
   ],
   "source": [
    "pub_names.head()"
   ]
  },
  {
   "cell_type": "code",
   "execution_count": 8,
   "metadata": {
    "collapsed": true
   },
   "outputs": [],
   "source": [
    "corpus = '. '.join(list(pub_names['name']))"
   ]
  },
  {
   "cell_type": "code",
   "execution_count": 9,
   "metadata": {},
   "outputs": [
    {
     "data": {
      "text/plain": [
       "972245"
      ]
     },
     "execution_count": 9,
     "metadata": {},
     "output_type": "execute_result"
    }
   ],
   "source": [
    "len(corpus)"
   ]
  },
  {
   "cell_type": "code",
   "execution_count": 12,
   "metadata": {
    "collapsed": true
   },
   "outputs": [],
   "source": [
    "pub_names['length'] = pub_names['name'].apply(lambda x: len(x))"
   ]
  },
  {
   "cell_type": "code",
   "execution_count": 14,
   "metadata": {},
   "outputs": [
    {
     "data": {
      "text/plain": [
       "16.85441957879223"
      ]
     },
     "execution_count": 14,
     "metadata": {},
     "output_type": "execute_result"
    }
   ],
   "source": [
    "pub_names.length.mean()"
   ]
  },
  {
   "cell_type": "code",
   "execution_count": 26,
   "metadata": {},
   "outputs": [],
   "source": [
    "nlp = spacy.load(\"en\")"
   ]
  },
  {
   "cell_type": "code",
   "execution_count": 27,
   "metadata": {
    "collapsed": true
   },
   "outputs": [],
   "source": [
    "class PosifiedText(markovify.Text):\n",
    "    \n",
    "    def word_split(self, sentence):\n",
    "        return [\"::\".join((word.orth_, word.pos_)) for word in nlp(sentence)]\n",
    "    \n",
    "    def word_join(self, words):\n",
    "        tagged_words = [word.split(\"::\") for word in words]\n",
    "        sentence = ''\n",
    "        for word, pos_tag in tagged_words:\n",
    "            if pos_tag == \"PUNCT\":\n",
    "                sentence += word\n",
    "            else:\n",
    "                word = \" \" + word\n",
    "                sentence += word\n",
    "        return sentence.lstrip()"
   ]
  },
  {
   "cell_type": "code",
   "execution_count": 28,
   "metadata": {},
   "outputs": [
    {
     "name": "stdout",
     "output_type": "stream",
     "text": [
      "THE WHITE HART INN.\n",
      "Yates 's Wine Bar.\n",
      "Crow 's Nest.\n",
      "City Golf Club Ltd.\n",
      "Monton Bowling Club.\n",
      "Up The Junction Pub.\n",
      "New Red Lion.\n",
      "Dolgellau Golf Club.\n",
      "Stag 's Head.\n",
      "Two Point Bar.\n",
      "Paxton 's Head.\n",
      "Live at Home.\n",
      "Traveller 's Rest.\n",
      "Bouchra At The Bank.\n",
      "New York Club.\n"
     ]
    }
   ],
   "source": [
    "# Build the model.\n",
    "text_model = PosifiedText(corpus)\n",
    "\n",
    "for i in range(15):\n",
    "    print(text_model.make_short_sentence(20, tries=25))"
   ]
  },
  {
   "cell_type": "code",
   "execution_count": 44,
   "metadata": {},
   "outputs": [],
   "source": [
    "def normalise_name(text):\n",
    "    tokens = {\n",
    "        \"PH\": \"Public House\",\n",
    "        \"Ph.\": \"Public House.\",\n",
    "        \" 's\": \"'s\",\n",
    "        \".\": \"\",\n",
    "    }\n",
    "    if text:\n",
    "        for token, value in tokens.items():\n",
    "            text = text.replace(token, value)\n",
    "    return text"
   ]
  },
  {
   "cell_type": "code",
   "execution_count": 40,
   "metadata": {
    "collapsed": true
   },
   "outputs": [],
   "source": [
    "def make_tavern():\n",
    "    return normalise_name(text_model.make_short_sentence(20, tries=25))"
   ]
  },
  {
   "cell_type": "code",
   "execution_count": 49,
   "metadata": {},
   "outputs": [
    {
     "name": "stdout",
     "output_type": "stream",
     "text": [
      "Walking into Ye Olde Wine House\n"
     ]
    }
   ],
   "source": [
    "print(\"Walking into {}\".format(make_tavern()))"
   ]
  },
  {
   "cell_type": "code",
   "execution_count": 50,
   "metadata": {},
   "outputs": [
    {
     "name": "stdout",
     "output_type": "stream",
     "text": [
      "Our travellers prefer it to The Cock & Seaman, which sat across the path from The Red Cow Inn.\n"
     ]
    }
   ],
   "source": [
    "print(\"Our travellers prefer it to {}, which sat across the path from {}.\".format(make_tavern(), make_tavern()))"
   ]
  },
  {
   "cell_type": "code",
   "execution_count": 51,
   "metadata": {},
   "outputs": [
    {
     "name": "stdout",
     "output_type": "stream",
     "text": [
      "Their plan tonight was to drink here, then move to Old Town Hall Bars\n",
      "However Durin was looking forward to the ale at The Hop & Barley\n"
     ]
    }
   ],
   "source": [
    "print(\"Their plan tonight was to drink here, then move to {}\".format(make_tavern()))\n",
    "print(\"However Durin was looking forward to the ale at {}\".format(make_tavern()))"
   ]
  },
  {
   "cell_type": "code",
   "execution_count": 52,
   "metadata": {},
   "outputs": [
    {
     "name": "stdout",
     "output_type": "stream",
     "text": [
      "They finished their pints and walked passed the rowdy crowd at Balcony Bar & Grill\n"
     ]
    }
   ],
   "source": [
    "print(\"They finished their pints and walked passed the rowdy crowd at {}\".format(make_tavern()))"
   ]
  },
  {
   "cell_type": "code",
   "execution_count": 55,
   "metadata": {},
   "outputs": [
    {
     "name": "stdout",
     "output_type": "stream",
     "text": [
      "Looking forward to the final stop: Frog & Bucket\n"
     ]
    }
   ],
   "source": [
    "print(\"Looking forward to the final stop: {}\".format(make_tavern()))"
   ]
  },
  {
   "cell_type": "code",
   "execution_count": null,
   "metadata": {
    "collapsed": true
   },
   "outputs": [],
   "source": []
  }
 ],
 "metadata": {
  "kernelspec": {
   "display_name": "Python 3",
   "language": "python",
   "name": "python3"
  },
  "language_info": {
   "codemirror_mode": {
    "name": "ipython",
    "version": 3
   },
   "file_extension": ".py",
   "mimetype": "text/x-python",
   "name": "python",
   "nbconvert_exporter": "python",
   "pygments_lexer": "ipython3",
   "version": "3.4.2"
  }
 },
 "nbformat": 4,
 "nbformat_minor": 2
}
